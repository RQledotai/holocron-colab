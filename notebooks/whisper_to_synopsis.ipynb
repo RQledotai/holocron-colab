{
  "nbformat": 4,
  "nbformat_minor": 0,
  "metadata": {
    "colab": {
      "provenance": [],
      "authorship_tag": "ABX9TyP5ZhnAMeTgYFoHnl4WF8gh",
      "include_colab_link": true
    },
    "kernelspec": {
      "name": "python3",
      "display_name": "Python 3"
    },
    "language_info": {
      "name": "python"
    }
  },
  "cells": [
    {
      "cell_type": "markdown",
      "metadata": {
        "id": "view-in-github",
        "colab_type": "text"
      },
      "source": [
        "<a href=\"https://colab.research.google.com/github/RQledotai/holocron-colab/blob/master/notebooks/whisper_to_synopsis.ipynb\" target=\"_parent\"><img src=\"https://colab.research.google.com/assets/colab-badge.svg\" alt=\"Open In Colab\"/></a>"
      ]
    },
    {
      "cell_type": "markdown",
      "source": [
        "# Whipser to Synopsis"
      ],
      "metadata": {
        "id": "0LNbtD84qH1a"
      }
    },
    {
      "cell_type": "markdown",
      "source": [
        "## Description"
      ],
      "metadata": {
        "id": "ZWXMCRyPq34r"
      }
    },
    {
      "cell_type": "markdown",
      "source": [
        "This Google Colab notebook demonstrates how to convert a MP4 video into a blog posts by:\n",
        "1. Extracting the Audio track from video\n",
        "2. Transcribing the Audio track to text\n",
        "3. Summarizing the text into key takeaways"
      ],
      "metadata": {
        "id": "7_Sy0_vrqQwi"
      }
    },
    {
      "cell_type": "markdown",
      "source": [
        "## Initialization"
      ],
      "metadata": {
        "id": "N-oOd1b9q9ui"
      }
    },
    {
      "cell_type": "markdown",
      "source": [
        "###"
      ],
      "metadata": {
        "id": "-WUqsBIarNMu"
      }
    },
    {
      "cell_type": "code",
      "execution_count": null,
      "metadata": {
        "id": "7JuCYK8cpx2-"
      },
      "outputs": [],
      "source": []
    }
  ]
}